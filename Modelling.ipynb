{
 "cells": [
  {
   "cell_type": "code",
   "execution_count": 80,
   "id": "51d1d34b-72c2-4cee-b8cd-9aea887e01fe",
   "metadata": {},
   "outputs": [],
   "source": [
    "import pandas as pd\n",
    "import numpy as np\n",
    "import matplotlib.pyplot as plt"
   ]
  },
  {
   "cell_type": "code",
   "execution_count": 81,
   "id": "5dff3e9b-95f6-4a05-80b1-36c09d932a4e",
   "metadata": {},
   "outputs": [],
   "source": [
    "df = pd.read_csv('insurance.csv')\n",
    "X = df.drop(columns = ['children', 'sex', 'region', 'charges'])\n",
    "y = df['charges']"
   ]
  },
  {
   "cell_type": "code",
   "execution_count": 82,
   "id": "7c1cb012-e173-4293-9450-0511872a6029",
   "metadata": {},
   "outputs": [
    {
     "data": {
      "text/html": [
       "<div>\n",
       "<style scoped>\n",
       "    .dataframe tbody tr th:only-of-type {\n",
       "        vertical-align: middle;\n",
       "    }\n",
       "\n",
       "    .dataframe tbody tr th {\n",
       "        vertical-align: top;\n",
       "    }\n",
       "\n",
       "    .dataframe thead th {\n",
       "        text-align: right;\n",
       "    }\n",
       "</style>\n",
       "<table border=\"1\" class=\"dataframe\">\n",
       "  <thead>\n",
       "    <tr style=\"text-align: right;\">\n",
       "      <th></th>\n",
       "      <th>age</th>\n",
       "      <th>bmi</th>\n",
       "      <th>smoker</th>\n",
       "    </tr>\n",
       "  </thead>\n",
       "  <tbody>\n",
       "    <tr>\n",
       "      <th>0</th>\n",
       "      <td>19</td>\n",
       "      <td>27.900</td>\n",
       "      <td>yes</td>\n",
       "    </tr>\n",
       "    <tr>\n",
       "      <th>1</th>\n",
       "      <td>18</td>\n",
       "      <td>33.770</td>\n",
       "      <td>no</td>\n",
       "    </tr>\n",
       "    <tr>\n",
       "      <th>2</th>\n",
       "      <td>28</td>\n",
       "      <td>33.000</td>\n",
       "      <td>no</td>\n",
       "    </tr>\n",
       "    <tr>\n",
       "      <th>3</th>\n",
       "      <td>33</td>\n",
       "      <td>22.705</td>\n",
       "      <td>no</td>\n",
       "    </tr>\n",
       "    <tr>\n",
       "      <th>4</th>\n",
       "      <td>32</td>\n",
       "      <td>28.880</td>\n",
       "      <td>no</td>\n",
       "    </tr>\n",
       "    <tr>\n",
       "      <th>...</th>\n",
       "      <td>...</td>\n",
       "      <td>...</td>\n",
       "      <td>...</td>\n",
       "    </tr>\n",
       "    <tr>\n",
       "      <th>1333</th>\n",
       "      <td>50</td>\n",
       "      <td>30.970</td>\n",
       "      <td>no</td>\n",
       "    </tr>\n",
       "    <tr>\n",
       "      <th>1334</th>\n",
       "      <td>18</td>\n",
       "      <td>31.920</td>\n",
       "      <td>no</td>\n",
       "    </tr>\n",
       "    <tr>\n",
       "      <th>1335</th>\n",
       "      <td>18</td>\n",
       "      <td>36.850</td>\n",
       "      <td>no</td>\n",
       "    </tr>\n",
       "    <tr>\n",
       "      <th>1336</th>\n",
       "      <td>21</td>\n",
       "      <td>25.800</td>\n",
       "      <td>no</td>\n",
       "    </tr>\n",
       "    <tr>\n",
       "      <th>1337</th>\n",
       "      <td>61</td>\n",
       "      <td>29.070</td>\n",
       "      <td>yes</td>\n",
       "    </tr>\n",
       "  </tbody>\n",
       "</table>\n",
       "<p>1338 rows × 3 columns</p>\n",
       "</div>"
      ],
      "text/plain": [
       "      age     bmi smoker\n",
       "0      19  27.900    yes\n",
       "1      18  33.770     no\n",
       "2      28  33.000     no\n",
       "3      33  22.705     no\n",
       "4      32  28.880     no\n",
       "...   ...     ...    ...\n",
       "1333   50  30.970     no\n",
       "1334   18  31.920     no\n",
       "1335   18  36.850     no\n",
       "1336   21  25.800     no\n",
       "1337   61  29.070    yes\n",
       "\n",
       "[1338 rows x 3 columns]"
      ]
     },
     "execution_count": 82,
     "metadata": {},
     "output_type": "execute_result"
    }
   ],
   "source": [
    "X"
   ]
  },
  {
   "cell_type": "markdown",
   "id": "1a383137-ef2a-430f-90db-4936c252f2f0",
   "metadata": {},
   "source": [
    "This is a dataframe representing the <b>independent variables (age, smoker and BMI)</b>. I have only taken these variables as they have the greatest effect on the charges. "
   ]
  },
  {
   "cell_type": "code",
   "execution_count": 83,
   "id": "febf9af3-339e-4803-b5f3-2b0e5288c753",
   "metadata": {},
   "outputs": [
    {
     "data": {
      "text/plain": [
       "0       16884.92400\n",
       "1        1725.55230\n",
       "2        4449.46200\n",
       "3       21984.47061\n",
       "4        3866.85520\n",
       "           ...     \n",
       "1333    10600.54830\n",
       "1334     2205.98080\n",
       "1335     1629.83350\n",
       "1336     2007.94500\n",
       "1337    29141.36030\n",
       "Name: charges, Length: 1338, dtype: float64"
      ]
     },
     "execution_count": 83,
     "metadata": {},
     "output_type": "execute_result"
    }
   ],
   "source": [
    "y"
   ]
  },
  {
   "cell_type": "markdown",
   "id": "7894ba29-3461-4a8c-b914-03adfb57971a",
   "metadata": {},
   "source": [
    "This represents the <b>dependent</b> variable, <b>charges</b>. We are trying to predict this using the independent variables."
   ]
  },
  {
   "cell_type": "markdown",
   "id": "e3567429-c3d8-43e5-848a-7ed9b8e6830b",
   "metadata": {},
   "source": [
    "<h3>Test/train split</h3>"
   ]
  },
  {
   "cell_type": "code",
   "execution_count": 84,
   "id": "135d9b86-4465-4179-87f2-e5877ff4b203",
   "metadata": {},
   "outputs": [
    {
     "data": {
      "text/html": [
       "<div>\n",
       "<style scoped>\n",
       "    .dataframe tbody tr th:only-of-type {\n",
       "        vertical-align: middle;\n",
       "    }\n",
       "\n",
       "    .dataframe tbody tr th {\n",
       "        vertical-align: top;\n",
       "    }\n",
       "\n",
       "    .dataframe thead th {\n",
       "        text-align: right;\n",
       "    }\n",
       "</style>\n",
       "<table border=\"1\" class=\"dataframe\">\n",
       "  <thead>\n",
       "    <tr style=\"text-align: right;\">\n",
       "      <th></th>\n",
       "      <th>age</th>\n",
       "      <th>bmi</th>\n",
       "      <th>smoker</th>\n",
       "    </tr>\n",
       "  </thead>\n",
       "  <tbody>\n",
       "    <tr>\n",
       "      <th>911</th>\n",
       "      <td>18</td>\n",
       "      <td>31.730</td>\n",
       "      <td>yes</td>\n",
       "    </tr>\n",
       "    <tr>\n",
       "      <th>769</th>\n",
       "      <td>38</td>\n",
       "      <td>19.475</td>\n",
       "      <td>no</td>\n",
       "    </tr>\n",
       "    <tr>\n",
       "      <th>961</th>\n",
       "      <td>29</td>\n",
       "      <td>25.900</td>\n",
       "      <td>no</td>\n",
       "    </tr>\n",
       "    <tr>\n",
       "      <th>863</th>\n",
       "      <td>36</td>\n",
       "      <td>19.855</td>\n",
       "      <td>no</td>\n",
       "    </tr>\n",
       "    <tr>\n",
       "      <th>648</th>\n",
       "      <td>18</td>\n",
       "      <td>28.500</td>\n",
       "      <td>no</td>\n",
       "    </tr>\n",
       "    <tr>\n",
       "      <th>...</th>\n",
       "      <td>...</td>\n",
       "      <td>...</td>\n",
       "      <td>...</td>\n",
       "    </tr>\n",
       "    <tr>\n",
       "      <th>541</th>\n",
       "      <td>20</td>\n",
       "      <td>31.790</td>\n",
       "      <td>no</td>\n",
       "    </tr>\n",
       "    <tr>\n",
       "      <th>968</th>\n",
       "      <td>21</td>\n",
       "      <td>25.745</td>\n",
       "      <td>no</td>\n",
       "    </tr>\n",
       "    <tr>\n",
       "      <th>295</th>\n",
       "      <td>18</td>\n",
       "      <td>22.990</td>\n",
       "      <td>no</td>\n",
       "    </tr>\n",
       "    <tr>\n",
       "      <th>666</th>\n",
       "      <td>49</td>\n",
       "      <td>28.700</td>\n",
       "      <td>no</td>\n",
       "    </tr>\n",
       "    <tr>\n",
       "      <th>461</th>\n",
       "      <td>42</td>\n",
       "      <td>30.000</td>\n",
       "      <td>yes</td>\n",
       "    </tr>\n",
       "  </tbody>\n",
       "</table>\n",
       "<p>1070 rows × 3 columns</p>\n",
       "</div>"
      ],
      "text/plain": [
       "     age     bmi smoker\n",
       "911   18  31.730    yes\n",
       "769   38  19.475     no\n",
       "961   29  25.900     no\n",
       "863   36  19.855     no\n",
       "648   18  28.500     no\n",
       "..   ...     ...    ...\n",
       "541   20  31.790     no\n",
       "968   21  25.745     no\n",
       "295   18  22.990     no\n",
       "666   49  28.700     no\n",
       "461   42  30.000    yes\n",
       "\n",
       "[1070 rows x 3 columns]"
      ]
     },
     "execution_count": 84,
     "metadata": {},
     "output_type": "execute_result"
    }
   ],
   "source": [
    "from sklearn.model_selection import train_test_split\n",
    "X_train, X_test, y_train, y_test = train_test_split(X, y, random_state = 55, test_size = 0.2)\n",
    "X_train"
   ]
  },
  {
   "cell_type": "markdown",
   "id": "3bb38617-3aa4-4c0d-a8f1-94e646279484",
   "metadata": {},
   "source": [
    "I have done an <b>80/20</b> split of the data set: 80% for training and 20% for testing. <b>X_train and y_train</b> are the <b>independent and dependent variables</b> respectively, which we will be using to train the model. <b>X_test and y_test</b> are the data we will be using to <b>test the model</b>."
   ]
  },
  {
   "cell_type": "code",
   "execution_count": 85,
   "id": "a53ff27b-683b-469f-89f6-d8708b91bc6e",
   "metadata": {},
   "outputs": [
    {
     "name": "stdout",
     "output_type": "stream",
     "text": [
      "Train size = 1070\n",
      "Test size = 268\n"
     ]
    }
   ],
   "source": [
    "print(\"Train size = \" + str(len(X_train)))\n",
    "print(\"Test size = \" + str(len(X_test)))"
   ]
  },
  {
   "cell_type": "code",
   "execution_count": 86,
   "id": "fe505b01-2472-49c4-b6d8-0f39d2108f66",
   "metadata": {},
   "outputs": [
    {
     "data": {
      "text/html": [
       "<style>#sk-container-id-3 {\n",
       "  /* Definition of color scheme common for light and dark mode */\n",
       "  --sklearn-color-text: #000;\n",
       "  --sklearn-color-text-muted: #666;\n",
       "  --sklearn-color-line: gray;\n",
       "  /* Definition of color scheme for unfitted estimators */\n",
       "  --sklearn-color-unfitted-level-0: #fff5e6;\n",
       "  --sklearn-color-unfitted-level-1: #f6e4d2;\n",
       "  --sklearn-color-unfitted-level-2: #ffe0b3;\n",
       "  --sklearn-color-unfitted-level-3: chocolate;\n",
       "  /* Definition of color scheme for fitted estimators */\n",
       "  --sklearn-color-fitted-level-0: #f0f8ff;\n",
       "  --sklearn-color-fitted-level-1: #d4ebff;\n",
       "  --sklearn-color-fitted-level-2: #b3dbfd;\n",
       "  --sklearn-color-fitted-level-3: cornflowerblue;\n",
       "\n",
       "  /* Specific color for light theme */\n",
       "  --sklearn-color-text-on-default-background: var(--sg-text-color, var(--theme-code-foreground, var(--jp-content-font-color1, black)));\n",
       "  --sklearn-color-background: var(--sg-background-color, var(--theme-background, var(--jp-layout-color0, white)));\n",
       "  --sklearn-color-border-box: var(--sg-text-color, var(--theme-code-foreground, var(--jp-content-font-color1, black)));\n",
       "  --sklearn-color-icon: #696969;\n",
       "\n",
       "  @media (prefers-color-scheme: dark) {\n",
       "    /* Redefinition of color scheme for dark theme */\n",
       "    --sklearn-color-text-on-default-background: var(--sg-text-color, var(--theme-code-foreground, var(--jp-content-font-color1, white)));\n",
       "    --sklearn-color-background: var(--sg-background-color, var(--theme-background, var(--jp-layout-color0, #111)));\n",
       "    --sklearn-color-border-box: var(--sg-text-color, var(--theme-code-foreground, var(--jp-content-font-color1, white)));\n",
       "    --sklearn-color-icon: #878787;\n",
       "  }\n",
       "}\n",
       "\n",
       "#sk-container-id-3 {\n",
       "  color: var(--sklearn-color-text);\n",
       "}\n",
       "\n",
       "#sk-container-id-3 pre {\n",
       "  padding: 0;\n",
       "}\n",
       "\n",
       "#sk-container-id-3 input.sk-hidden--visually {\n",
       "  border: 0;\n",
       "  clip: rect(1px 1px 1px 1px);\n",
       "  clip: rect(1px, 1px, 1px, 1px);\n",
       "  height: 1px;\n",
       "  margin: -1px;\n",
       "  overflow: hidden;\n",
       "  padding: 0;\n",
       "  position: absolute;\n",
       "  width: 1px;\n",
       "}\n",
       "\n",
       "#sk-container-id-3 div.sk-dashed-wrapped {\n",
       "  border: 1px dashed var(--sklearn-color-line);\n",
       "  margin: 0 0.4em 0.5em 0.4em;\n",
       "  box-sizing: border-box;\n",
       "  padding-bottom: 0.4em;\n",
       "  background-color: var(--sklearn-color-background);\n",
       "}\n",
       "\n",
       "#sk-container-id-3 div.sk-container {\n",
       "  /* jupyter's `normalize.less` sets `[hidden] { display: none; }`\n",
       "     but bootstrap.min.css set `[hidden] { display: none !important; }`\n",
       "     so we also need the `!important` here to be able to override the\n",
       "     default hidden behavior on the sphinx rendered scikit-learn.org.\n",
       "     See: https://github.com/scikit-learn/scikit-learn/issues/21755 */\n",
       "  display: inline-block !important;\n",
       "  position: relative;\n",
       "}\n",
       "\n",
       "#sk-container-id-3 div.sk-text-repr-fallback {\n",
       "  display: none;\n",
       "}\n",
       "\n",
       "div.sk-parallel-item,\n",
       "div.sk-serial,\n",
       "div.sk-item {\n",
       "  /* draw centered vertical line to link estimators */\n",
       "  background-image: linear-gradient(var(--sklearn-color-text-on-default-background), var(--sklearn-color-text-on-default-background));\n",
       "  background-size: 2px 100%;\n",
       "  background-repeat: no-repeat;\n",
       "  background-position: center center;\n",
       "}\n",
       "\n",
       "/* Parallel-specific style estimator block */\n",
       "\n",
       "#sk-container-id-3 div.sk-parallel-item::after {\n",
       "  content: \"\";\n",
       "  width: 100%;\n",
       "  border-bottom: 2px solid var(--sklearn-color-text-on-default-background);\n",
       "  flex-grow: 1;\n",
       "}\n",
       "\n",
       "#sk-container-id-3 div.sk-parallel {\n",
       "  display: flex;\n",
       "  align-items: stretch;\n",
       "  justify-content: center;\n",
       "  background-color: var(--sklearn-color-background);\n",
       "  position: relative;\n",
       "}\n",
       "\n",
       "#sk-container-id-3 div.sk-parallel-item {\n",
       "  display: flex;\n",
       "  flex-direction: column;\n",
       "}\n",
       "\n",
       "#sk-container-id-3 div.sk-parallel-item:first-child::after {\n",
       "  align-self: flex-end;\n",
       "  width: 50%;\n",
       "}\n",
       "\n",
       "#sk-container-id-3 div.sk-parallel-item:last-child::after {\n",
       "  align-self: flex-start;\n",
       "  width: 50%;\n",
       "}\n",
       "\n",
       "#sk-container-id-3 div.sk-parallel-item:only-child::after {\n",
       "  width: 0;\n",
       "}\n",
       "\n",
       "/* Serial-specific style estimator block */\n",
       "\n",
       "#sk-container-id-3 div.sk-serial {\n",
       "  display: flex;\n",
       "  flex-direction: column;\n",
       "  align-items: center;\n",
       "  background-color: var(--sklearn-color-background);\n",
       "  padding-right: 1em;\n",
       "  padding-left: 1em;\n",
       "}\n",
       "\n",
       "\n",
       "/* Toggleable style: style used for estimator/Pipeline/ColumnTransformer box that is\n",
       "clickable and can be expanded/collapsed.\n",
       "- Pipeline and ColumnTransformer use this feature and define the default style\n",
       "- Estimators will overwrite some part of the style using the `sk-estimator` class\n",
       "*/\n",
       "\n",
       "/* Pipeline and ColumnTransformer style (default) */\n",
       "\n",
       "#sk-container-id-3 div.sk-toggleable {\n",
       "  /* Default theme specific background. It is overwritten whether we have a\n",
       "  specific estimator or a Pipeline/ColumnTransformer */\n",
       "  background-color: var(--sklearn-color-background);\n",
       "}\n",
       "\n",
       "/* Toggleable label */\n",
       "#sk-container-id-3 label.sk-toggleable__label {\n",
       "  cursor: pointer;\n",
       "  display: flex;\n",
       "  width: 100%;\n",
       "  margin-bottom: 0;\n",
       "  padding: 0.5em;\n",
       "  box-sizing: border-box;\n",
       "  text-align: center;\n",
       "  align-items: start;\n",
       "  justify-content: space-between;\n",
       "  gap: 0.5em;\n",
       "}\n",
       "\n",
       "#sk-container-id-3 label.sk-toggleable__label .caption {\n",
       "  font-size: 0.6rem;\n",
       "  font-weight: lighter;\n",
       "  color: var(--sklearn-color-text-muted);\n",
       "}\n",
       "\n",
       "#sk-container-id-3 label.sk-toggleable__label-arrow:before {\n",
       "  /* Arrow on the left of the label */\n",
       "  content: \"▸\";\n",
       "  float: left;\n",
       "  margin-right: 0.25em;\n",
       "  color: var(--sklearn-color-icon);\n",
       "}\n",
       "\n",
       "#sk-container-id-3 label.sk-toggleable__label-arrow:hover:before {\n",
       "  color: var(--sklearn-color-text);\n",
       "}\n",
       "\n",
       "/* Toggleable content - dropdown */\n",
       "\n",
       "#sk-container-id-3 div.sk-toggleable__content {\n",
       "  max-height: 0;\n",
       "  max-width: 0;\n",
       "  overflow: hidden;\n",
       "  text-align: left;\n",
       "  /* unfitted */\n",
       "  background-color: var(--sklearn-color-unfitted-level-0);\n",
       "}\n",
       "\n",
       "#sk-container-id-3 div.sk-toggleable__content.fitted {\n",
       "  /* fitted */\n",
       "  background-color: var(--sklearn-color-fitted-level-0);\n",
       "}\n",
       "\n",
       "#sk-container-id-3 div.sk-toggleable__content pre {\n",
       "  margin: 0.2em;\n",
       "  border-radius: 0.25em;\n",
       "  color: var(--sklearn-color-text);\n",
       "  /* unfitted */\n",
       "  background-color: var(--sklearn-color-unfitted-level-0);\n",
       "}\n",
       "\n",
       "#sk-container-id-3 div.sk-toggleable__content.fitted pre {\n",
       "  /* unfitted */\n",
       "  background-color: var(--sklearn-color-fitted-level-0);\n",
       "}\n",
       "\n",
       "#sk-container-id-3 input.sk-toggleable__control:checked~div.sk-toggleable__content {\n",
       "  /* Expand drop-down */\n",
       "  max-height: 200px;\n",
       "  max-width: 100%;\n",
       "  overflow: auto;\n",
       "}\n",
       "\n",
       "#sk-container-id-3 input.sk-toggleable__control:checked~label.sk-toggleable__label-arrow:before {\n",
       "  content: \"▾\";\n",
       "}\n",
       "\n",
       "/* Pipeline/ColumnTransformer-specific style */\n",
       "\n",
       "#sk-container-id-3 div.sk-label input.sk-toggleable__control:checked~label.sk-toggleable__label {\n",
       "  color: var(--sklearn-color-text);\n",
       "  background-color: var(--sklearn-color-unfitted-level-2);\n",
       "}\n",
       "\n",
       "#sk-container-id-3 div.sk-label.fitted input.sk-toggleable__control:checked~label.sk-toggleable__label {\n",
       "  background-color: var(--sklearn-color-fitted-level-2);\n",
       "}\n",
       "\n",
       "/* Estimator-specific style */\n",
       "\n",
       "/* Colorize estimator box */\n",
       "#sk-container-id-3 div.sk-estimator input.sk-toggleable__control:checked~label.sk-toggleable__label {\n",
       "  /* unfitted */\n",
       "  background-color: var(--sklearn-color-unfitted-level-2);\n",
       "}\n",
       "\n",
       "#sk-container-id-3 div.sk-estimator.fitted input.sk-toggleable__control:checked~label.sk-toggleable__label {\n",
       "  /* fitted */\n",
       "  background-color: var(--sklearn-color-fitted-level-2);\n",
       "}\n",
       "\n",
       "#sk-container-id-3 div.sk-label label.sk-toggleable__label,\n",
       "#sk-container-id-3 div.sk-label label {\n",
       "  /* The background is the default theme color */\n",
       "  color: var(--sklearn-color-text-on-default-background);\n",
       "}\n",
       "\n",
       "/* On hover, darken the color of the background */\n",
       "#sk-container-id-3 div.sk-label:hover label.sk-toggleable__label {\n",
       "  color: var(--sklearn-color-text);\n",
       "  background-color: var(--sklearn-color-unfitted-level-2);\n",
       "}\n",
       "\n",
       "/* Label box, darken color on hover, fitted */\n",
       "#sk-container-id-3 div.sk-label.fitted:hover label.sk-toggleable__label.fitted {\n",
       "  color: var(--sklearn-color-text);\n",
       "  background-color: var(--sklearn-color-fitted-level-2);\n",
       "}\n",
       "\n",
       "/* Estimator label */\n",
       "\n",
       "#sk-container-id-3 div.sk-label label {\n",
       "  font-family: monospace;\n",
       "  font-weight: bold;\n",
       "  display: inline-block;\n",
       "  line-height: 1.2em;\n",
       "}\n",
       "\n",
       "#sk-container-id-3 div.sk-label-container {\n",
       "  text-align: center;\n",
       "}\n",
       "\n",
       "/* Estimator-specific */\n",
       "#sk-container-id-3 div.sk-estimator {\n",
       "  font-family: monospace;\n",
       "  border: 1px dotted var(--sklearn-color-border-box);\n",
       "  border-radius: 0.25em;\n",
       "  box-sizing: border-box;\n",
       "  margin-bottom: 0.5em;\n",
       "  /* unfitted */\n",
       "  background-color: var(--sklearn-color-unfitted-level-0);\n",
       "}\n",
       "\n",
       "#sk-container-id-3 div.sk-estimator.fitted {\n",
       "  /* fitted */\n",
       "  background-color: var(--sklearn-color-fitted-level-0);\n",
       "}\n",
       "\n",
       "/* on hover */\n",
       "#sk-container-id-3 div.sk-estimator:hover {\n",
       "  /* unfitted */\n",
       "  background-color: var(--sklearn-color-unfitted-level-2);\n",
       "}\n",
       "\n",
       "#sk-container-id-3 div.sk-estimator.fitted:hover {\n",
       "  /* fitted */\n",
       "  background-color: var(--sklearn-color-fitted-level-2);\n",
       "}\n",
       "\n",
       "/* Specification for estimator info (e.g. \"i\" and \"?\") */\n",
       "\n",
       "/* Common style for \"i\" and \"?\" */\n",
       "\n",
       ".sk-estimator-doc-link,\n",
       "a:link.sk-estimator-doc-link,\n",
       "a:visited.sk-estimator-doc-link {\n",
       "  float: right;\n",
       "  font-size: smaller;\n",
       "  line-height: 1em;\n",
       "  font-family: monospace;\n",
       "  background-color: var(--sklearn-color-background);\n",
       "  border-radius: 1em;\n",
       "  height: 1em;\n",
       "  width: 1em;\n",
       "  text-decoration: none !important;\n",
       "  margin-left: 0.5em;\n",
       "  text-align: center;\n",
       "  /* unfitted */\n",
       "  border: var(--sklearn-color-unfitted-level-1) 1pt solid;\n",
       "  color: var(--sklearn-color-unfitted-level-1);\n",
       "}\n",
       "\n",
       ".sk-estimator-doc-link.fitted,\n",
       "a:link.sk-estimator-doc-link.fitted,\n",
       "a:visited.sk-estimator-doc-link.fitted {\n",
       "  /* fitted */\n",
       "  border: var(--sklearn-color-fitted-level-1) 1pt solid;\n",
       "  color: var(--sklearn-color-fitted-level-1);\n",
       "}\n",
       "\n",
       "/* On hover */\n",
       "div.sk-estimator:hover .sk-estimator-doc-link:hover,\n",
       ".sk-estimator-doc-link:hover,\n",
       "div.sk-label-container:hover .sk-estimator-doc-link:hover,\n",
       ".sk-estimator-doc-link:hover {\n",
       "  /* unfitted */\n",
       "  background-color: var(--sklearn-color-unfitted-level-3);\n",
       "  color: var(--sklearn-color-background);\n",
       "  text-decoration: none;\n",
       "}\n",
       "\n",
       "div.sk-estimator.fitted:hover .sk-estimator-doc-link.fitted:hover,\n",
       ".sk-estimator-doc-link.fitted:hover,\n",
       "div.sk-label-container:hover .sk-estimator-doc-link.fitted:hover,\n",
       ".sk-estimator-doc-link.fitted:hover {\n",
       "  /* fitted */\n",
       "  background-color: var(--sklearn-color-fitted-level-3);\n",
       "  color: var(--sklearn-color-background);\n",
       "  text-decoration: none;\n",
       "}\n",
       "\n",
       "/* Span, style for the box shown on hovering the info icon */\n",
       ".sk-estimator-doc-link span {\n",
       "  display: none;\n",
       "  z-index: 9999;\n",
       "  position: relative;\n",
       "  font-weight: normal;\n",
       "  right: .2ex;\n",
       "  padding: .5ex;\n",
       "  margin: .5ex;\n",
       "  width: min-content;\n",
       "  min-width: 20ex;\n",
       "  max-width: 50ex;\n",
       "  color: var(--sklearn-color-text);\n",
       "  box-shadow: 2pt 2pt 4pt #999;\n",
       "  /* unfitted */\n",
       "  background: var(--sklearn-color-unfitted-level-0);\n",
       "  border: .5pt solid var(--sklearn-color-unfitted-level-3);\n",
       "}\n",
       "\n",
       ".sk-estimator-doc-link.fitted span {\n",
       "  /* fitted */\n",
       "  background: var(--sklearn-color-fitted-level-0);\n",
       "  border: var(--sklearn-color-fitted-level-3);\n",
       "}\n",
       "\n",
       ".sk-estimator-doc-link:hover span {\n",
       "  display: block;\n",
       "}\n",
       "\n",
       "/* \"?\"-specific style due to the `<a>` HTML tag */\n",
       "\n",
       "#sk-container-id-3 a.estimator_doc_link {\n",
       "  float: right;\n",
       "  font-size: 1rem;\n",
       "  line-height: 1em;\n",
       "  font-family: monospace;\n",
       "  background-color: var(--sklearn-color-background);\n",
       "  border-radius: 1rem;\n",
       "  height: 1rem;\n",
       "  width: 1rem;\n",
       "  text-decoration: none;\n",
       "  /* unfitted */\n",
       "  color: var(--sklearn-color-unfitted-level-1);\n",
       "  border: var(--sklearn-color-unfitted-level-1) 1pt solid;\n",
       "}\n",
       "\n",
       "#sk-container-id-3 a.estimator_doc_link.fitted {\n",
       "  /* fitted */\n",
       "  border: var(--sklearn-color-fitted-level-1) 1pt solid;\n",
       "  color: var(--sklearn-color-fitted-level-1);\n",
       "}\n",
       "\n",
       "/* On hover */\n",
       "#sk-container-id-3 a.estimator_doc_link:hover {\n",
       "  /* unfitted */\n",
       "  background-color: var(--sklearn-color-unfitted-level-3);\n",
       "  color: var(--sklearn-color-background);\n",
       "  text-decoration: none;\n",
       "}\n",
       "\n",
       "#sk-container-id-3 a.estimator_doc_link.fitted:hover {\n",
       "  /* fitted */\n",
       "  background-color: var(--sklearn-color-fitted-level-3);\n",
       "}\n",
       "</style><div id=\"sk-container-id-3\" class=\"sk-top-container\"><div class=\"sk-text-repr-fallback\"><pre>ColumnTransformer(transformers=[(&#x27;num&#x27;, StandardScaler(), [&#x27;age&#x27;, &#x27;bmi&#x27;]),\n",
       "                                (&#x27;cat&#x27;, OneHotEncoder(handle_unknown=&#x27;ignore&#x27;),\n",
       "                                 [&#x27;smoker&#x27;])])</pre><b>In a Jupyter environment, please rerun this cell to show the HTML representation or trust the notebook. <br />On GitHub, the HTML representation is unable to render, please try loading this page with nbviewer.org.</b></div><div class=\"sk-container\" hidden><div class=\"sk-item sk-dashed-wrapped\"><div class=\"sk-label-container\"><div class=\"sk-label  sk-toggleable\"><input class=\"sk-toggleable__control sk-hidden--visually\" id=\"sk-estimator-id-11\" type=\"checkbox\" ><label for=\"sk-estimator-id-11\" class=\"sk-toggleable__label  sk-toggleable__label-arrow\"><div><div>ColumnTransformer</div></div><div><a class=\"sk-estimator-doc-link \" rel=\"noreferrer\" target=\"_blank\" href=\"https://scikit-learn.org/1.6/modules/generated/sklearn.compose.ColumnTransformer.html\">?<span>Documentation for ColumnTransformer</span></a><span class=\"sk-estimator-doc-link \">i<span>Not fitted</span></span></div></label><div class=\"sk-toggleable__content \"><pre>ColumnTransformer(transformers=[(&#x27;num&#x27;, StandardScaler(), [&#x27;age&#x27;, &#x27;bmi&#x27;]),\n",
       "                                (&#x27;cat&#x27;, OneHotEncoder(handle_unknown=&#x27;ignore&#x27;),\n",
       "                                 [&#x27;smoker&#x27;])])</pre></div> </div></div><div class=\"sk-parallel\"><div class=\"sk-parallel-item\"><div class=\"sk-item\"><div class=\"sk-label-container\"><div class=\"sk-label  sk-toggleable\"><input class=\"sk-toggleable__control sk-hidden--visually\" id=\"sk-estimator-id-12\" type=\"checkbox\" ><label for=\"sk-estimator-id-12\" class=\"sk-toggleable__label  sk-toggleable__label-arrow\"><div><div>num</div></div></label><div class=\"sk-toggleable__content \"><pre>[&#x27;age&#x27;, &#x27;bmi&#x27;]</pre></div> </div></div><div class=\"sk-serial\"><div class=\"sk-item\"><div class=\"sk-estimator  sk-toggleable\"><input class=\"sk-toggleable__control sk-hidden--visually\" id=\"sk-estimator-id-13\" type=\"checkbox\" ><label for=\"sk-estimator-id-13\" class=\"sk-toggleable__label  sk-toggleable__label-arrow\"><div><div>StandardScaler</div></div><div><a class=\"sk-estimator-doc-link \" rel=\"noreferrer\" target=\"_blank\" href=\"https://scikit-learn.org/1.6/modules/generated/sklearn.preprocessing.StandardScaler.html\">?<span>Documentation for StandardScaler</span></a></div></label><div class=\"sk-toggleable__content \"><pre>StandardScaler()</pre></div> </div></div></div></div></div><div class=\"sk-parallel-item\"><div class=\"sk-item\"><div class=\"sk-label-container\"><div class=\"sk-label  sk-toggleable\"><input class=\"sk-toggleable__control sk-hidden--visually\" id=\"sk-estimator-id-14\" type=\"checkbox\" ><label for=\"sk-estimator-id-14\" class=\"sk-toggleable__label  sk-toggleable__label-arrow\"><div><div>cat</div></div></label><div class=\"sk-toggleable__content \"><pre>[&#x27;smoker&#x27;]</pre></div> </div></div><div class=\"sk-serial\"><div class=\"sk-item\"><div class=\"sk-estimator  sk-toggleable\"><input class=\"sk-toggleable__control sk-hidden--visually\" id=\"sk-estimator-id-15\" type=\"checkbox\" ><label for=\"sk-estimator-id-15\" class=\"sk-toggleable__label  sk-toggleable__label-arrow\"><div><div>OneHotEncoder</div></div><div><a class=\"sk-estimator-doc-link \" rel=\"noreferrer\" target=\"_blank\" href=\"https://scikit-learn.org/1.6/modules/generated/sklearn.preprocessing.OneHotEncoder.html\">?<span>Documentation for OneHotEncoder</span></a></div></label><div class=\"sk-toggleable__content \"><pre>OneHotEncoder(handle_unknown=&#x27;ignore&#x27;)</pre></div> </div></div></div></div></div></div></div></div></div>"
      ],
      "text/plain": [
       "ColumnTransformer(transformers=[('num', StandardScaler(), ['age', 'bmi']),\n",
       "                                ('cat', OneHotEncoder(handle_unknown='ignore'),\n",
       "                                 ['smoker'])])"
      ]
     },
     "execution_count": 86,
     "metadata": {},
     "output_type": "execute_result"
    }
   ],
   "source": [
    "from sklearn.compose import ColumnTransformer\n",
    "from sklearn.preprocessing import StandardScaler, OneHotEncoder\n",
    "\n",
    "num_features = ['age', 'bmi']\n",
    "cat_features = ['smoker']\n",
    "\n",
    "num_transformer = StandardScaler()\n",
    "cat_transformer = OneHotEncoder()\n",
    "\n",
    "preprocessor = ColumnTransformer(transformers = [(\"num\", StandardScaler(), num_features), (\"cat\", OneHotEncoder(handle_unknown = \"ignore\"), cat_features)])\n",
    "preprocessor"
   ]
  },
  {
   "cell_type": "markdown",
   "id": "e6695899-ab72-4f7c-802d-3d3b17791db3",
   "metadata": {},
   "source": [
    "First I split the features into <b>numerical features</b> (age and BMI) and <b>categorical features</b> (smoker). I then ran <b>Standard Scaler</b> on the numerical features to <b>standardize</b> the data with a <b>mean</b> of 0 and a <b>standard deviation</b> of 1. I also ran <b>One Hot Encoder</b> on the categorical features, and transformed them into dummy columns <b>smoker_yes</b> and <b>smoker_no</b>. <b>ColumnTransformer</b> then concatenates the columns into a singular <b>feature matrix</b>. Hence, <b>preprocessor</b> outputs a matrix that is suitable for modelling."
   ]
  },
  {
   "cell_type": "code",
   "execution_count": 87,
   "id": "3e5668da-0f07-4628-b211-442b6753d173",
   "metadata": {},
   "outputs": [],
   "source": [
    "from sklearn.pipeline import Pipeline\n",
    "from sklearn.linear_model import LinearRegression, Ridge\n",
    "from sklearn.ensemble import RandomForestRegressor\n",
    "from xgboost import XGBRegressor\n",
    "from sklearn.metrics import mean_absolute_error, root_mean_squared_error, r2_score\n",
    "\n",
    "linear_pipeline = Pipeline(steps=[(\"preprocessor\", preprocessor), (\"model\", LinearRegression())])\n",
    "ridge_pipeline = Pipeline(steps=[(\"preprocessor\", preprocessor), (\"model\", Ridge(alpha = 1.0))])\n",
    "\n",
    "rf_pipeline = Pipeline(steps=[(\"preprocessor\", preprocessor), (\"model\", RandomForestRegressor(\n",
    "        n_estimators=200,\n",
    "        max_depth=None,\n",
    "        min_samples_split=2,\n",
    "        min_samples_leaf=1,\n",
    "        random_state=55,\n",
    "        n_jobs=-1\n",
    "    ))])\n",
    "\n",
    "xgb_pipeline = Pipeline(steps=[(\"preprocessor\", preprocessor), (\"model\", XGBRegressor(\n",
    "        n_estimators=500,\n",
    "        learning_rate=0.05,\n",
    "        max_depth=4,\n",
    "        subsample=0.8,\n",
    "        colsample_bytree=0.8,\n",
    "        random_state=55,\n",
    "        n_jobs=-1\n",
    "    ))])"
   ]
  },
  {
   "cell_type": "markdown",
   "id": "006e5775-cd97-45a1-b331-6a24119db4c0",
   "metadata": {},
   "source": [
    "I have created 4 machine learning pipelines: Linear Regression, Ridge Regression, Random Forest Regression and XGBoost Regression.\n",
    "1. <b><u>Linear Regression</u></b> - Creates a straight line relationship between the inputs and charges\n",
    "2. <b><u>Ridge Regression</u></b> - Similar to linear regression, but reduces coefficients slightly to prevent overfitting\n",
    "3. <b><u>Random Forest Regression</u></b> - Builds decision trees and random samples, and then finds the average\n",
    "4. <b><u>XGBoost Regression</u></b> - Builds trees that build on its previous trees and correct them"
   ]
  },
  {
   "cell_type": "code",
   "execution_count": 88,
   "id": "8451c03a-f612-4d8b-be56-69d4ad855de1",
   "metadata": {},
   "outputs": [],
   "source": [
    "linear_pipeline.fit(X_train, y_train)\n",
    "linear_y_predicted = linear_pipeline.predict(X_test)\n",
    "\n",
    "ridge_pipeline.fit(X_train, y_train)\n",
    "ridge_y_predicted = ridge_pipeline.predict(X_test)\n",
    "\n",
    "rf_pipeline.fit(X_train, y_train)\n",
    "rf_y_predicted = rf_pipeline.predict(X_test)\n",
    "\n",
    "xgb_pipeline.fit(X_train, y_train)\n",
    "xgb_y_predicted = xgb_pipeline.predict(X_test)"
   ]
  },
  {
   "cell_type": "markdown",
   "id": "176953d0-6bbe-4697-b02a-eb456142f390",
   "metadata": {},
   "source": [
    "The training data is used to <b>fit</b> each model, and then the pipeline is used to <b>predict the charges</b> for the test data using the <b>X_test</b> data."
   ]
  },
  {
   "cell_type": "code",
   "execution_count": 89,
   "id": "f8f401b1-6a37-49ca-8e3e-8e862b074a30",
   "metadata": {},
   "outputs": [],
   "source": [
    "linear_mae = mean_absolute_error(y_test, linear_y_predicted)\n",
    "ridge_mae = mean_absolute_error(y_test, ridge_y_predicted)\n",
    "rf_mae = mean_absolute_error(y_test, rf_y_predicted)\n",
    "xgb_mae = mean_absolute_error(y_test, xgb_y_predicted)"
   ]
  },
  {
   "cell_type": "markdown",
   "id": "80bfb43d-3289-42c1-a4ce-f4c11d82d678",
   "metadata": {},
   "source": [
    "Calculating <b>mean average error</b> for all models"
   ]
  },
  {
   "cell_type": "code",
   "execution_count": 90,
   "id": "865a38d9-0610-4eb3-8f2a-83b27a4afc6a",
   "metadata": {},
   "outputs": [],
   "source": [
    "linear_rmse = root_mean_squared_error(y_test, linear_y_predicted)\n",
    "ridge_rmse = root_mean_squared_error(y_test, ridge_y_predicted)\n",
    "rf_rmse = root_mean_squared_error(y_test, rf_y_predicted)\n",
    "xgb_rmse = root_mean_squared_error(y_test, xgb_y_predicted)"
   ]
  },
  {
   "cell_type": "markdown",
   "id": "44be59ba-f52c-4539-9adb-3181ebf6b054",
   "metadata": {},
   "source": [
    "Calculating <b>root mean squared error</b> for all models"
   ]
  },
  {
   "cell_type": "code",
   "execution_count": 91,
   "id": "2ccea97f-ec5e-4432-a3c3-79da8bddb9b9",
   "metadata": {},
   "outputs": [],
   "source": [
    "linear_r2 = r2_score(y_test, linear_y_predicted)\n",
    "ridge_r2 = r2_score(y_test, ridge_y_predicted)\n",
    "rf_r2 = r2_score(y_test, rf_y_predicted)\n",
    "xgb_r2 = r2_score(y_test, xgb_y_predicted)"
   ]
  },
  {
   "cell_type": "markdown",
   "id": "8d7b09af-71d4-4e95-8038-6dc5c0fd1ad5",
   "metadata": {},
   "source": [
    "Calculating <b>R$^2$ score</b> for all models"
   ]
  },
  {
   "cell_type": "code",
   "execution_count": 92,
   "id": "63ace578-13c5-4a26-9d25-ad05b34cab0a",
   "metadata": {},
   "outputs": [
    {
     "data": {
      "text/html": [
       "<div>\n",
       "<style scoped>\n",
       "    .dataframe tbody tr th:only-of-type {\n",
       "        vertical-align: middle;\n",
       "    }\n",
       "\n",
       "    .dataframe tbody tr th {\n",
       "        vertical-align: top;\n",
       "    }\n",
       "\n",
       "    .dataframe thead th {\n",
       "        text-align: right;\n",
       "    }\n",
       "</style>\n",
       "<table border=\"1\" class=\"dataframe\">\n",
       "  <thead>\n",
       "    <tr style=\"text-align: right;\">\n",
       "      <th></th>\n",
       "      <th>linear</th>\n",
       "      <th>ridge</th>\n",
       "      <th>rf</th>\n",
       "      <th>xgb</th>\n",
       "    </tr>\n",
       "  </thead>\n",
       "  <tbody>\n",
       "    <tr>\n",
       "      <th>mae</th>\n",
       "      <td>4529.879202</td>\n",
       "      <td>4532.203012</td>\n",
       "      <td>2996.197655</td>\n",
       "      <td>2965.886456</td>\n",
       "    </tr>\n",
       "    <tr>\n",
       "      <th>rmse</th>\n",
       "      <td>6428.991242</td>\n",
       "      <td>6423.759195</td>\n",
       "      <td>5276.705290</td>\n",
       "      <td>5027.754977</td>\n",
       "    </tr>\n",
       "    <tr>\n",
       "      <th>r2</th>\n",
       "      <td>0.687978</td>\n",
       "      <td>0.688485</td>\n",
       "      <td>0.789803</td>\n",
       "      <td>0.809169</td>\n",
       "    </tr>\n",
       "  </tbody>\n",
       "</table>\n",
       "</div>"
      ],
      "text/plain": [
       "           linear        ridge           rf          xgb\n",
       "mae   4529.879202  4532.203012  2996.197655  2965.886456\n",
       "rmse  6428.991242  6423.759195  5276.705290  5027.754977\n",
       "r2       0.687978     0.688485     0.789803     0.809169"
      ]
     },
     "execution_count": 92,
     "metadata": {},
     "output_type": "execute_result"
    }
   ],
   "source": [
    "columns = ['linear', 'ridge', 'rf', 'xgb']\n",
    "index = ['mae', 'rmse', 'r2']\n",
    "data = [[linear_mae, ridge_mae, rf_mae, xgb_mae], [linear_rmse, ridge_rmse, rf_rmse, xgb_rmse], [linear_r2, ridge_r2, rf_r2, xgb_r2]]\n",
    "model_stats = pd.DataFrame(data, columns = columns, index = index)\n",
    "model_stats"
   ]
  },
  {
   "cell_type": "markdown",
   "id": "426b385d-9443-4844-9335-0f98b6ad3205",
   "metadata": {},
   "source": [
    "A comparison of <b>MAE, RMSE and R$^2$ score</b> for all 4 models."
   ]
  },
  {
   "cell_type": "code",
   "execution_count": 93,
   "id": "0613b2e5-4b44-4680-8540-3883d61d179a",
   "metadata": {},
   "outputs": [],
   "source": [
    "from sklearn.model_selection import RandomizedSearchCV\n",
    "param_dist_rf = {\n",
    "    \"model__n_estimators\": [200, 400, 600, 800, 1000],\n",
    "    \"model__max_depth\": [None, 5, 10, 20, 40],\n",
    "    \"model__min_samples_split\": [2, 5, 10],\n",
    "    \"model__min_samples_leaf\": [1, 2, 4],\n",
    "    \"model__max_features\": [\"sqrt\", \"log2\"]\n",
    "}"
   ]
  },
  {
   "cell_type": "markdown",
   "id": "f531dc9d-a353-496e-a386-6a84c6c8721a",
   "metadata": {},
   "source": [
    "This is a search space that has possible values for <b>hyperparameters</b> for the Random Forest Regressor. These hyperparameters need to be <b>tuned</b> to <b>optimize</b> the regressor:\n",
    "<br>\n",
    "<b>n_estimators</b> - Number of trees in the forest\n",
    "<br>\n",
    "<b>max_depth</b> - Maximum depth of each tree\n",
    "<br>\n",
    "<b>min_samples_split</b> - Minimum number of samples required to split a node\n",
    "<br>\n",
    "<b>min_samples_leaf</b> - Minimum samples required at leaf node\n",
    "<br>\n",
    "<b>max_features</b> - The number of features that are considered at each split"
   ]
  },
  {
   "cell_type": "code",
   "execution_count": 94,
   "id": "933c372f-5fee-4f95-a357-e9dc879f872e",
   "metadata": {},
   "outputs": [],
   "source": [
    "random_search_rf = RandomizedSearchCV(\n",
    "    estimator = rf_pipeline,\n",
    "    param_distributions = param_dist_rf,\n",
    "    n_iter = 20,\n",
    "    scoring = \"neg_mean_absolute_error\",\n",
    "    cv = 5,\n",
    "    random_state = 55,\n",
    "    n_jobs=-1\n",
    ")"
   ]
  },
  {
   "cell_type": "markdown",
   "id": "8581e450-d168-45e9-a09a-fd31eda41bdf",
   "metadata": {},
   "source": [
    "<b>RandomizedSearchCV</b> is used to choose the optimal hyperparameter combination:\n",
    "<br>\n",
    "<b>estimator</b> - The Random Forest Pipeline is being tested\n",
    "<br>\n",
    "<b>n_iter</b> - Instead of iterating through all possibilities, it just iterates through 20 random ones and selects the best outcome\n",
    "<br>\n",
    "<b>scoring</b> - Method to choose the hyperparameter combination\n",
    "<br>\n",
    "<b>cv</b> - Using 5-fold cross validation: training data is split into 5 parts, with 4 for training and 1 for validation"
   ]
  },
  {
   "cell_type": "code",
   "execution_count": 95,
   "id": "29d4edde-6f9d-470f-8eb2-ddb7ad5786c1",
   "metadata": {},
   "outputs": [
    {
     "name": "stdout",
     "output_type": "stream",
     "text": [
      "Best params:  {'model__n_estimators': 200, 'model__min_samples_split': 5, 'model__min_samples_leaf': 1, 'model__max_features': 'sqrt', 'model__max_depth': 5}\n",
      "Best MAE:  2524.6065829435397\n"
     ]
    }
   ],
   "source": [
    "import warnings\n",
    "from sklearn.exceptions import FitFailedWarning\n",
    "\n",
    "random_search_rf.fit(X_train, y_train)\n",
    "print(\"Best params: \", random_search_rf.best_params_)\n",
    "print(\"Best MAE: \", -random_search_rf.best_score_)\n",
    "warnings.filterwarnings(\"ignore\", category=FitFailedWarning)"
   ]
  },
  {
   "cell_type": "code",
   "execution_count": 96,
   "id": "ca99bf28-001a-4c8e-89c0-32c1be8b09fe",
   "metadata": {},
   "outputs": [],
   "source": [
    "param_dist_xgb = {\n",
    "    \"model__n_estimators\": [300, 500, 800, 1000, 1200],\n",
    "    \"model__learning_rate\": [0.01, 0.03, 0.05, 0.1],   \n",
    "    \"model__max_depth\": [3, 4, 5, 6],            \n",
    "    \"model__subsample\": [0.6, 0.7, 0.8, 0.9, 1.0],  \n",
    "    \"model__colsample_bytree\": [0.6, 0.7, 0.8, 0.9, 1.0],\n",
    "    \"model__reg_lambda\": [0.1, 1, 10],                    \n",
    "    \"model__reg_alpha\": [0, 0.5, 1]                       \n",
    "}"
   ]
  },
  {
   "cell_type": "markdown",
   "id": "bcb64141-e0cc-4571-a42f-a97519d5aa43",
   "metadata": {},
   "source": [
    "This is a search space that has possible values for <b>hyperparameters</b> for the XGBoost Regressor. These hyperparameters need to be <b>tuned</b> to <b>optimize</b> the regressor:\n",
    "<br>\n",
    "<b>n_estimators</b> - Number of boosting round\n",
    "<br>\n",
    "<b>learning_rate</b> - How much the previous tree is corrected\n",
    "<br>\n",
    "<b>max_depth</b> - Maximum depth of each tree\n",
    "<br>\n",
    "<b>subsample</b> - The fraction of the training data used for each tree\n",
    "<br>\n",
    "<b>colsample_bytree</b> - The fraction of features used for each tree\n",
    "<br>\n",
    "<b>reg_lambda</b> - L2 regularization term\n",
    "<br>\n",
    "<b>reg_alpha</b> - L1 regularization term"
   ]
  },
  {
   "cell_type": "code",
   "execution_count": 97,
   "id": "42bd0d78-bb82-4892-b878-9a004e03b886",
   "metadata": {},
   "outputs": [],
   "source": [
    "random_search_xgb = RandomizedSearchCV(\n",
    "    estimator = xgb_pipeline,\n",
    "    param_distributions = param_dist_xgb,\n",
    "    n_iter = 25,\n",
    "    scoring = \"neg_mean_absolute_error\",\n",
    "    cv = 5, \n",
    "    random_state = 55,\n",
    "    n_jobs = -1\n",
    ")"
   ]
  },
  {
   "cell_type": "markdown",
   "id": "4c56c1c3-2149-4d69-a3c7-71c0c41002dc",
   "metadata": {},
   "source": [
    "<b>RandomizedSearchCV</b> on the XGBoost pipeline, with the same parameters as the Random Forest Pipeline RandomizedSearchCV."
   ]
  },
  {
   "cell_type": "code",
   "execution_count": 98,
   "id": "37472766-55ad-4d88-9a86-5e301d385e88",
   "metadata": {},
   "outputs": [
    {
     "name": "stdout",
     "output_type": "stream",
     "text": [
      "Best params:  {'model__subsample': 0.9, 'model__reg_lambda': 10, 'model__reg_alpha': 1, 'model__n_estimators': 500, 'model__max_depth': 3, 'model__learning_rate': 0.05, 'model__colsample_bytree': 0.7}\n",
      "Best MAE:  2548.9309427861926\n"
     ]
    }
   ],
   "source": [
    "random_search_xgb.fit(X_train, y_train)\n",
    "xgb_best_params = random_search_xgb.best_params_\n",
    "xgb_best_mae = -random_search_xgb.best_score_\n",
    "print(\"Best params: \", xgb_best_params)\n",
    "print(\"Best MAE: \", xgb_best_mae)"
   ]
  },
  {
   "cell_type": "code",
   "execution_count": 112,
   "id": "1480e147-2587-43ae-92f8-227652f05090",
   "metadata": {},
   "outputs": [],
   "source": [
    "# y_test"
   ]
  },
  {
   "cell_type": "markdown",
   "id": "c538576a-4d60-48bc-b07d-e5bad4178eaf",
   "metadata": {},
   "source": [
    "<b>Validate fit quality and bias</b>"
   ]
  },
  {
   "cell_type": "code",
   "execution_count": 114,
   "id": "4b64f5cb-2bcc-492d-a4d2-ddf959eb0270",
   "metadata": {},
   "outputs": [],
   "source": [
    "rf_best = random_search_rf.best_estimator_\n",
    "xgb_best = random_search_xgb.best_estimator_"
   ]
  },
  {
   "cell_type": "markdown",
   "id": "27788a46-2848-412b-a3de-02dc9683dbee",
   "metadata": {},
   "source": [
    "Best pipelines based on optimized hyperparameters "
   ]
  },
  {
   "cell_type": "code",
   "execution_count": 101,
   "id": "073e6abd-8dbd-4c70-814d-16acf30c13b6",
   "metadata": {},
   "outputs": [],
   "source": [
    "rf_best.fit(X_train, y_train)\n",
    "rf_best_y_predicted = rf_best.predict(X_test)\n",
    "rf_best_residuals = y_test - rf_best_y_predicted"
   ]
  },
  {
   "cell_type": "markdown",
   "id": "e94f2b5f-b1df-4a6e-85d2-057e247e4c92",
   "metadata": {},
   "source": [
    "<b>Predicted values</b> using the best Random Forest Regressor, along with the <b>residuals</b>"
   ]
  },
  {
   "cell_type": "code",
   "execution_count": 102,
   "id": "8c984bd4-e3c9-4966-bc08-9e010a31e663",
   "metadata": {},
   "outputs": [],
   "source": [
    "xgb_best.fit(X_train, y_train)\n",
    "xgb_best_y_predicted = xgb_best.predict(X_test)\n",
    "xgb_best_residuals = y_test - xgb_best_y_predicted"
   ]
  },
  {
   "cell_type": "markdown",
   "id": "d34ce79c-7f5c-447d-ae68-f8e49325c7a5",
   "metadata": {},
   "source": [
    "<b>Predicted values</b> using the best XGBoost Regressor, along with the <b>residuals</b>"
   ]
  },
  {
   "cell_type": "code",
   "execution_count": 103,
   "id": "446eedb3-f89e-4e2d-93e2-d1a70f22be3d",
   "metadata": {},
   "outputs": [
    {
     "data": {
      "text/html": [
       "<div>\n",
       "<style scoped>\n",
       "    .dataframe tbody tr th:only-of-type {\n",
       "        vertical-align: middle;\n",
       "    }\n",
       "\n",
       "    .dataframe tbody tr th {\n",
       "        vertical-align: top;\n",
       "    }\n",
       "\n",
       "    .dataframe thead th {\n",
       "        text-align: right;\n",
       "    }\n",
       "</style>\n",
       "<table border=\"1\" class=\"dataframe\">\n",
       "  <thead>\n",
       "    <tr style=\"text-align: right;\">\n",
       "      <th></th>\n",
       "      <th>rf</th>\n",
       "      <th>xgb</th>\n",
       "    </tr>\n",
       "  </thead>\n",
       "  <tbody>\n",
       "    <tr>\n",
       "      <th>mae</th>\n",
       "      <td>2629.746292</td>\n",
       "      <td>2732.564395</td>\n",
       "    </tr>\n",
       "    <tr>\n",
       "      <th>rmse</th>\n",
       "      <td>4704.923950</td>\n",
       "      <td>4757.164052</td>\n",
       "    </tr>\n",
       "    <tr>\n",
       "      <th>r2</th>\n",
       "      <td>0.832889</td>\n",
       "      <td>0.829157</td>\n",
       "    </tr>\n",
       "  </tbody>\n",
       "</table>\n",
       "</div>"
      ],
      "text/plain": [
       "               rf          xgb\n",
       "mae   2629.746292  2732.564395\n",
       "rmse  4704.923950  4757.164052\n",
       "r2       0.832889     0.829157"
      ]
     },
     "execution_count": 103,
     "metadata": {},
     "output_type": "execute_result"
    }
   ],
   "source": [
    "rf_best_mae = mean_absolute_error(y_test, rf_best_y_predicted)\n",
    "xgb_best_mae = mean_absolute_error(y_test, xgb_best_y_predicted)\n",
    "\n",
    "rf_best_rmse = root_mean_squared_error(y_test, rf_best_y_predicted)\n",
    "xgb_best_rmse = root_mean_squared_error(y_test, xgb_best_y_predicted)\n",
    "\n",
    "rf_best_r2 = r2_score(y_test, rf_best_y_predicted)\n",
    "xgb_best_r2 = r2_score(y_test, xgb_best_y_predicted)\n",
    "\n",
    "data = [[rf_best_mae, xgb_best_mae], [rf_best_rmse, xgb_best_rmse], [rf_best_r2, xgb_best_r2]]\n",
    "columns_best = ['rf', 'xgb']\n",
    "best_stats = pd.DataFrame(data, columns = columns_best, index = index)\n",
    "best_stats"
   ]
  },
  {
   "cell_type": "markdown",
   "id": "536aa6e2-452b-4dd7-bffb-373619e5e39b",
   "metadata": {},
   "source": [
    "Error metrics MAE, RMSE and R$^2$ score for both the optimized Random Forest Regressor and XGBoost regressor."
   ]
  },
  {
   "cell_type": "code",
   "execution_count": 104,
   "id": "c18bf010-9d4e-482b-b953-ce21ff1175f6",
   "metadata": {},
   "outputs": [
    {
     "data": {
      "text/plain": [
       "Text(0, 0.5, 'Predicted charge')"
      ]
     },
     "execution_count": 104,
     "metadata": {},
     "output_type": "execute_result"
    },
    {
     "data": {
      "image/png": "[encoded data removed]",
      "text/plain": [
       "<Figure size 640x480 with 1 Axes>"
      ]
     },
     "metadata": {},
     "output_type": "display_data"
    }
   ],
   "source": [
    "plt.scatter(y_test, rf_best_y_predicted, alpha=0.8, color = \"red\")\n",
    "plt.plot([y_test.min(), y_test.max()], [y_test.min(), y_test.max()], \n",
    "         color=\"green\", linestyle=\"--\")\n",
    "plt.title(\"Actual vs. Predicted values for Random Forest Model\")\n",
    "plt.xlabel(\"Actual charge\")\n",
    "plt.ylabel(\"Predicted charge\")"
   ]
  },
  {
   "cell_type": "markdown",
   "id": "210d1dd9-8370-4e61-8e52-1b3f393ca5b9",
   "metadata": {},
   "source": [
    "This graph represents the <b>actual charges</b> compared with the <b>predicted charges</b> of the optimized Random Forest Regressor. The green dashed line represents <b>y = x</b>. The closer the data points hug this line, the more accurate the regressor is, because it indicates how close the predicted charge is to the actual charge."
   ]
  },
  {
   "cell_type": "code",
   "execution_count": 105,
   "id": "69a515af-d3d8-41de-bf8a-186882f7c5d3",
   "metadata": {},
   "outputs": [
    {
     "data": {
      "text/plain": [
       "Text(0, 0.5, 'Predicted charge')"
      ]
     },
     "execution_count": 105,
     "metadata": {},
     "output_type": "execute_result"
    },
    {
     "data": {
      "image/png": "[encoded data removed]",
      "text/plain": [
       "<Figure size 640x480 with 1 Axes>"
      ]
     },
     "metadata": {},
     "output_type": "display_data"
    }
   ],
   "source": [
    "plt.scatter(y_test, xgb_best_y_predicted, alpha=0.8, color = \"#0394fc\")\n",
    "plt.plot([y_test.min(), y_test.max()], [y_test.min(), y_test.max()], \n",
    "         color=\"green\", linestyle=\"--\")\n",
    "plt.title(\"Actual vs. Predicted values for XGBoost model\")\n",
    "plt.xlabel(\"Actual charge\")\n",
    "plt.ylabel(\"Predicted charge\")"
   ]
  },
  {
   "cell_type": "markdown",
   "id": "ad1eef53-3b2e-42d2-8132-2f5dbeb66f15",
   "metadata": {},
   "source": [
    "This graph represents the <b>actual charges</b> compared with the <b>predicted charges</b> of the optimized XGBoost Regressor. The green dashed line represents <b>y = x</b>. The closer the data points hug this line, the more accurate the regressor is, because it indicates how close the predicted charge is to the actual charge."
   ]
  },
  {
   "cell_type": "code",
   "execution_count": 106,
   "id": "3680a90f-dee5-4fa2-94b9-3d17a2a4a015",
   "metadata": {},
   "outputs": [
    {
     "data": {
      "text/plain": [
       "Text(0.5, 1.0, 'Predicted charge vs. Residuals for Random Forest Model')"
      ]
     },
     "execution_count": 106,
     "metadata": {},
     "output_type": "execute_result"
    },
    {
     "data": {
      "image/png": "[encoded data removed]",
      "text/plain": [
       "<Figure size 640x480 with 1 Axes>"
      ]
     },
     "metadata": {},
     "output_type": "display_data"
    }
   ],
   "source": [
    "plt.scatter(rf_best_y_predicted, rf_best_residuals, color = \"#fc7f03\")\n",
    "plt.axhline(y = 0, linestyle = \"--\", color = \"green\")\n",
    "plt.xlabel(\"Predicted charge\")\n",
    "plt.ylabel(\"Residuals\")\n",
    "plt.title(\"Predicted charge vs. Residuals for Random Forest Model\")"
   ]
  },
  {
   "cell_type": "markdown",
   "id": "79fcc56c-db1a-4e85-b853-465110ae1e88",
   "metadata": {},
   "source": [
    "This graph represents the <b>residuals</b> compared with the <b>predicted charges</b> of the optimized Random Forest Regressor. The green dashed line represents <b>y = 0</b>. The closer the data points hug this line, the more accurate the regressor is, because residuals (errors) need to be as close to zero as possible."
   ]
  },
  {
   "cell_type": "code",
   "execution_count": 107,
   "id": "f143f5e7-68cf-454e-a2b4-e9a11c4363ef",
   "metadata": {},
   "outputs": [
    {
     "data": {
      "text/plain": [
       "Text(0.5, 1.0, 'Predicted Charge vs. Residuals for XGBoost Model')"
      ]
     },
     "execution_count": 107,
     "metadata": {},
     "output_type": "execute_result"
    },
    {
     "data": {
      "image/png": "[encoded data removed]",
      "text/plain": [
       "<Figure size 640x480 with 1 Axes>"
      ]
     },
     "metadata": {},
     "output_type": "display_data"
    }
   ],
   "source": [
    "plt.scatter(xgb_best_y_predicted, xgb_best_residuals, color = \"#9003fc\")\n",
    "plt.axhline(y = 0, linestyle = \"--\", color = \"green\")\n",
    "plt.xlabel(\"Predicted charge\")\n",
    "plt.ylabel(\"Residuals\")\n",
    "plt.title(\"Predicted Charge vs. Residuals for XGBoost Model\")"
   ]
  },
  {
   "cell_type": "markdown",
   "id": "80436ee3-19e4-40ab-9fee-5bbf4bef11c0",
   "metadata": {},
   "source": [
    "This graph represents the <b>residuals</b> compared with the <b>predicted charges</b> of the optimized XGBoost Regressor. The green dashed line represents <b>y = 0</b>. The closer the data points hug this line, the more accurate the regressor is, because residuals (errors) need to be as close to zero as possible."
   ]
  },
  {
   "cell_type": "code",
   "execution_count": 110,
   "id": "1822dddf-10cc-4ba8-bc1d-d2e9d8647f41",
   "metadata": {},
   "outputs": [
    {
     "data": {
      "text/html": [
       "<div>\n",
       "<style scoped>\n",
       "    .dataframe tbody tr th:only-of-type {\n",
       "        vertical-align: middle;\n",
       "    }\n",
       "\n",
       "    .dataframe tbody tr th {\n",
       "        vertical-align: top;\n",
       "    }\n",
       "\n",
       "    .dataframe thead th {\n",
       "        text-align: right;\n",
       "    }\n",
       "</style>\n",
       "<table border=\"1\" class=\"dataframe\">\n",
       "  <thead>\n",
       "    <tr style=\"text-align: right;\">\n",
       "      <th></th>\n",
       "      <th>rf</th>\n",
       "      <th>xgb</th>\n",
       "    </tr>\n",
       "  </thead>\n",
       "  <tbody>\n",
       "    <tr>\n",
       "      <th>mean</th>\n",
       "      <td>345.090863</td>\n",
       "      <td>153.254510</td>\n",
       "    </tr>\n",
       "    <tr>\n",
       "      <th>std</th>\n",
       "      <td>4701.030013</td>\n",
       "      <td>4763.590426</td>\n",
       "    </tr>\n",
       "    <tr>\n",
       "      <th>no. of outliers</th>\n",
       "      <td>8.000000</td>\n",
       "      <td>7.000000</td>\n",
       "    </tr>\n",
       "  </tbody>\n",
       "</table>\n",
       "</div>"
      ],
      "text/plain": [
       "                          rf          xgb\n",
       "mean              345.090863   153.254510\n",
       "std              4701.030013  4763.590426\n",
       "no. of outliers     8.000000     7.000000"
      ]
     },
     "execution_count": 110,
     "metadata": {},
     "output_type": "execute_result"
    }
   ],
   "source": [
    "rf_resid_mean = rf_best_residuals.mean()\n",
    "xgb_resid_mean = xgb_best_residuals.mean()\n",
    "\n",
    "rf_resid_std = rf_best_residuals.std()\n",
    "xgb_resid_std = xgb_best_residuals.std()\n",
    "\n",
    "rf_outliers = len(rf_best_residuals[rf_best_residuals > 15000])\n",
    "xgb_outliers = len(xgb_best_residuals[xgb_best_residuals > 15000])\n",
    "\n",
    "data = [[rf_resid_mean, xgb_resid_mean], [rf_resid_std, xgb_resid_std], [rf_outliers, xgb_outliers]]\n",
    "\n",
    "error_stats = pd.DataFrame(data, columns = [\"rf\", \"xgb\"], index = [\"mean\", \"std\", \"no. of outliers\"])\n",
    "error_stats"
   ]
  },
  {
   "cell_type": "markdown",
   "id": "18bd8941-a02d-4d5b-a0a0-8a3750640eff",
   "metadata": {},
   "source": [
    "This dataframe shows the stats of the optimized Random Forest and XGBoost Regressors. It shows the <b>mean</b> of the residuals (closer to zero is better), the <b>standard deviation</b>, and the <b>number of outliers</b> (the lower the number of outliers, the better)"
   ]
  },
  {
   "cell_type": "code",
   "execution_count": 109,
   "id": "84be708b-388f-4ce7-87a3-b1a53877c1be",
   "metadata": {},
   "outputs": [
    {
     "data": {
      "text/plain": [
       "['xgb_best.joblib']"
      ]
     },
     "execution_count": 109,
     "metadata": {},
     "output_type": "execute_result"
    }
   ],
   "source": [
    "import joblib\n",
    "best_pipeline = joblib.dump(xgb_best, \"xgb_best.joblib\")\n",
    "best_pipeline"
   ]
  },
  {
   "cell_type": "markdown",
   "id": "e3135c34-58a6-4d23-b64f-fbbcfb88af4b",
   "metadata": {},
   "source": [
    "This dumps the pipeline into a <b>.joblib</b> file, so that it can be used in the <b>User Interface</b> file"
   ]
  }
 ],
 "metadata": {
  "kernelspec": {
   "display_name": "Python [conda env:base] *",
   "language": "python",
   "name": "conda-base-py"
  },
  "language_info": {
   "codemirror_mode": {
    "name": "ipython",
    "version": 3
   },
   "file_extension": ".py",
   "mimetype": "text/x-python",
   "name": "python",
   "nbconvert_exporter": "python",
   "pygments_lexer": "ipython3",
   "version": "3.13.5"
  }
 },
 "nbformat": 4,
 "nbformat_minor": 5
}
